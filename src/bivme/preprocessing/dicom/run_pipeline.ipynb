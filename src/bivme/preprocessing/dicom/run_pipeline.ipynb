{
 "cells": [
  {
   "cell_type": "code",
   "execution_count": 1,
   "metadata": {},
   "outputs": [],
   "source": [
    "import os,sys\n",
    "os.environ[\"KMP_DUPLICATE_LIB_OK\"] = \"TRUE\"\n",
    "\n",
    "import torch\n",
    "import shutil\n",
    "import time\n",
    "import importlib\n",
    "\n",
    "import warnings\n",
    "warnings.filterwarnings('ignore')"
   ]
  },
  {
   "cell_type": "code",
   "execution_count": 2,
   "metadata": {},
   "outputs": [
    {
     "name": "stdout",
     "output_type": "stream",
     "text": [
      "nnUNet_raw is not defined and nnU-Net can only be used on data for which preprocessed files are already present on your system. nnU-Net cannot be used for experiment planning and preprocessing like this. If this is not intended, please read documentation/setting_up_paths.md for information on how to set this up properly.\n",
      "nnUNet_preprocessed is not defined and nnU-Net can not be used for preprocessing or training. If this is not intended, please read documentation/setting_up_paths.md for information on how to set this up.\n",
      "nnUNet_results is not defined and nnU-Net cannot be used for training or inference. If this is not intended behavior, please read documentation/setting_up_paths.md for information on how to set this up.\n"
     ]
    }
   ],
   "source": [
    "# Import modules\n",
    "from bivme.preprocessing.dicom.select_views import select_views\n",
    "from bivme.preprocessing.dicom.segment_views import segment_views\n",
    "from bivme.preprocessing.dicom.generate_contours import generate_contours\n",
    "from bivme.preprocessing.dicom.export_gp import export_gp"
   ]
  },
  {
   "cell_type": "code",
   "execution_count": 3,
   "metadata": {},
   "outputs": [
    {
     "name": "stdout",
     "output_type": "stream",
     "text": [
      "Using device:  cuda\n"
     ]
    }
   ],
   "source": [
    "# Check if GPU is available (torch)\n",
    "device = torch.device(\"cuda\" if torch.cuda.is_available() else \"cpu\")\n",
    "print(\"Using device: \", device)"
   ]
  },
  {
   "cell_type": "code",
   "execution_count": 96,
   "metadata": {},
   "outputs": [],
   "source": [
    "batch_ID = 'fimh-2024-3d' # This will serve as your output folder name\n",
    "analyst_id = 'jdil469'"
   ]
  },
  {
   "cell_type": "code",
   "execution_count": 205,
   "metadata": {},
   "outputs": [
    {
     "name": "stdout",
     "output_type": "stream",
     "text": [
      "Processing case: cardiohance_120\n"
     ]
    }
   ],
   "source": [
    "src = r\"C:\\Users\\jdil469\\bivme-data\\fitting\\raw-dicoms\" + \"\\\\\" + 'fimh-2024'\n",
    "dst = r\"C:\\Users\\jdil469\\bivme-data\\fitting\\processed\" + \"\\\\\" + batch_ID\n",
    "states = r\"C:\\Users\\jdil469\\bivme-data\\fitting\\states\" + \"\\\\\" + batch_ID\n",
    "output = r\"C:\\Users\\jdil469\\bivme-data\\fitting\\output\" + \"\\\\\" + batch_ID\n",
    "model = \"models/\"\n",
    "\n",
    "caselist = os.listdir(src)\n",
    "\n",
    "os.makedirs(dst, exist_ok=True)\n",
    "os.makedirs(states, exist_ok=True)\n",
    "os.makedirs(output, exist_ok=True)\n",
    "\n",
    "# analyst_id = input('Enter analyst ID: ')\n",
    "case = input('Enter case ID: ')\n",
    "\n",
    "case_src = os.path.join(src, case)\n",
    "case_dst = os.path.join(dst, case)\n",
    "\n",
    "if not os.path.isdir(case_src):\n",
    "    print(f'Processing case: {case}')\n",
    "if os.path.exists(case_dst):\n",
    "    enter = input(f'Case {case} already processed. Do you want to overwrite? (y/n): ')\n",
    "    if enter == 'y':\n",
    "        shutil.rmtree(case_dst)\n",
    "    else:\n",
    "        print(f'Case {case} skipped.')\n",
    "        \n",
    "start_time = time.time()\n",
    "# Create log file to record some details\n",
    "states = os.path.join(states, case, analyst_id)\n",
    "os.makedirs(states, exist_ok=True)\n",
    "if not os.path.exists(os.path.join(states, 'logs')):\n",
    "    os.mkdir(os.path.join(states, 'logs'))\n",
    "\n",
    "log_name = f'{case}_{analyst_id}_{time.ctime().replace(\" \",\"-\").replace(\":\",\"-\")}.txt'\n",
    "log_path = os.path.join(states, 'logs', log_name)\n",
    "with open(log_path, 'w') as f:\n",
    "    f.write(f'Case: {case}\\n')\n",
    "    f.write(f'Batch ID: {batch_ID}\\n')\n",
    "    f.write(f'Source: {case_src}\\n')\n",
    "    f.write(f'Destination: {dst}\\n')\n",
    "    f.write(f'Analyst ID: {analyst_id}\\n')\n",
    "    f.write(f'Processing started at: {time.ctime()}\\n')\n",
    "    f.write('\\n')\n",
    "\n",
    "print(f'Processing case: {case}')\n"
   ]
  },
  {
   "cell_type": "code",
   "execution_count": 206,
   "metadata": {},
   "outputs": [],
   "source": [
    "importlib.reload(sys.modules[select_views.__module__])\n",
    "from select_views import select_views"
   ]
  },
  {
   "cell_type": "code",
   "execution_count": 207,
   "metadata": {},
   "outputs": [
    {
     "name": "stdout",
     "output_type": "stream",
     "text": [
      "Loading view predictions from states folder...\n",
      "Data prepared for view prediction. 14 image series found.\n",
      "View predictions for cardiohance_120:\n",
      "SAX-atria: 1 series\n",
      "SAX: 5 series\n",
      "4ch: 1 series\n",
      "Excluded: 1 series\n",
      "3ch: 1 series\n",
      "2ch: 1 series\n",
      "2ch-RT: 1 series\n",
      "LVOT: 1 series\n",
      "RVOT: 1 series\n",
      "RVOT-T: 1 series\n",
      "View selection complete.\n",
      "Number of phases: 20\n"
     ]
    }
   ],
   "source": [
    "# option = 'default'\n",
    "option = 'load'\n",
    "\n",
    "# Temporarily displace states folder to 2d to load view predictions\n",
    "states_2d = r\"C:\\Users\\jdil469\\bivme-data\\fitting\\states\\fimh-2024-2d\"\n",
    "states_2d = os.path.join(states_2d, case, analyst_id)\n",
    "\n",
    "slice_info_df, num_phases, slice_mapping = select_views(case, case_src, case_dst, model, states_2d, option)\n",
    "print('View selection complete.')\n",
    "\n",
    "print(f'Number of phases: {num_phases}')"
   ]
  },
  {
   "cell_type": "code",
   "execution_count": 208,
   "metadata": {},
   "outputs": [],
   "source": [
    "importlib.reload(sys.modules[segment_views.__module__])\n",
    "from segment_views import segment_views"
   ]
  },
  {
   "cell_type": "code",
   "execution_count": 209,
   "metadata": {},
   "outputs": [
    {
     "name": "stdout",
     "output_type": "stream",
     "text": [
      "Writing SAX images to nifti files...\n",
      "Segmenting SAX images...\n",
      "*** Making predictions for SAX images ***\n",
      "There are 5 cases in the source folder\n",
      "I am process 0 out of 1 (max process ID is 0, we start counting with 0!)\n",
      "There are 5 cases that I would like to predict\n",
      "\n",
      "Predicting SAX_3d_10:\n",
      "perform_everything_on_device: True\n"
     ]
    },
    {
     "name": "stderr",
     "output_type": "stream",
     "text": [
      "100%|██████████| 2/2 [00:01<00:00,  1.10it/s]\n"
     ]
    },
    {
     "name": "stdout",
     "output_type": "stream",
     "text": [
      "sending off prediction to background worker for resampling and export\n",
      "done with SAX_3d_10\n",
      "\n",
      "Predicting SAX_3d_11:\n",
      "perform_everything_on_device: True\n"
     ]
    },
    {
     "name": "stderr",
     "output_type": "stream",
     "text": [
      "100%|██████████| 2/2 [00:01<00:00,  1.36it/s]\n"
     ]
    },
    {
     "name": "stdout",
     "output_type": "stream",
     "text": [
      "sending off prediction to background worker for resampling and export\n",
      "done with SAX_3d_11\n",
      "\n",
      "Predicting SAX_3d_7:\n",
      "perform_everything_on_device: True\n"
     ]
    },
    {
     "name": "stderr",
     "output_type": "stream",
     "text": [
      "100%|██████████| 2/2 [00:01<00:00,  1.24it/s]\n"
     ]
    },
    {
     "name": "stdout",
     "output_type": "stream",
     "text": [
      "sending off prediction to background worker for resampling and export\n",
      "done with SAX_3d_7\n",
      "\n",
      "Predicting SAX_3d_8:\n",
      "perform_everything_on_device: True\n"
     ]
    },
    {
     "name": "stderr",
     "output_type": "stream",
     "text": [
      "100%|██████████| 2/2 [00:01<00:00,  1.22it/s]\n"
     ]
    },
    {
     "name": "stdout",
     "output_type": "stream",
     "text": [
      "sending off prediction to background worker for resampling and export\n",
      "done with SAX_3d_8\n",
      "\n",
      "Predicting SAX_3d_9:\n",
      "perform_everything_on_device: True\n"
     ]
    },
    {
     "name": "stderr",
     "output_type": "stream",
     "text": [
      "100%|██████████| 2/2 [00:01<00:00,  1.24it/s]\n"
     ]
    },
    {
     "name": "stdout",
     "output_type": "stream",
     "text": [
      "sending off prediction to background worker for resampling and export\n",
      "done with SAX_3d_9\n",
      "Done with SAX\n",
      "\n",
      "Writing 2ch images to nifti files...\n",
      "Segmenting 2ch images...\n",
      "*** Making predictions for 2ch images ***\n",
      "There are 1 cases in the source folder\n",
      "I am process 0 out of 1 (max process ID is 0, we start counting with 0!)\n",
      "There are 1 cases that I would like to predict\n",
      "\n",
      "Predicting 2ch_3d_15:\n",
      "perform_everything_on_device: True\n"
     ]
    },
    {
     "name": "stderr",
     "output_type": "stream",
     "text": [
      "100%|██████████| 1/1 [00:00<00:00,  1.30it/s]\n"
     ]
    },
    {
     "name": "stdout",
     "output_type": "stream",
     "text": [
      "sending off prediction to background worker for resampling and export\n",
      "done with 2ch_3d_15\n",
      "Done with 2ch\n",
      "\n",
      "Writing 3ch images to nifti files...\n",
      "Segmenting 3ch images...\n",
      "*** Making predictions for 3ch images ***\n",
      "There are 1 cases in the source folder\n",
      "I am process 0 out of 1 (max process ID is 0, we start counting with 0!)\n",
      "There are 1 cases that I would like to predict\n",
      "\n",
      "Predicting 3ch_3d_14:\n",
      "perform_everything_on_device: True\n"
     ]
    },
    {
     "name": "stderr",
     "output_type": "stream",
     "text": [
      "100%|██████████| 2/2 [00:01<00:00,  1.16it/s]\n"
     ]
    },
    {
     "name": "stdout",
     "output_type": "stream",
     "text": [
      "sending off prediction to background worker for resampling and export\n",
      "done with 3ch_3d_14\n",
      "Done with 3ch\n",
      "\n",
      "Writing 4ch images to nifti files...\n",
      "Segmenting 4ch images...\n",
      "*** Making predictions for 4ch images ***\n",
      "There are 1 cases in the source folder\n",
      "I am process 0 out of 1 (max process ID is 0, we start counting with 0!)\n",
      "There are 1 cases that I would like to predict\n",
      "\n",
      "Predicting 4ch_3d_12:\n",
      "perform_everything_on_device: True\n"
     ]
    },
    {
     "name": "stderr",
     "output_type": "stream",
     "text": [
      "100%|██████████| 4/4 [00:03<00:00,  1.24it/s]\n"
     ]
    },
    {
     "name": "stdout",
     "output_type": "stream",
     "text": [
      "sending off prediction to background worker for resampling and export\n",
      "done with 4ch_3d_12\n",
      "Done with 4ch\n",
      "\n",
      "Writing RVOT images to nifti files...\n",
      "Segmenting RVOT images...\n",
      "*** Making predictions for RVOT images ***\n",
      "There are 1 cases in the source folder\n",
      "I am process 0 out of 1 (max process ID is 0, we start counting with 0!)\n",
      "There are 1 cases that I would like to predict\n",
      "\n",
      "Predicting RVOT_3d_18:\n",
      "perform_everything_on_device: True\n"
     ]
    },
    {
     "name": "stderr",
     "output_type": "stream",
     "text": [
      "100%|██████████| 2/2 [00:01<00:00,  1.43it/s]\n"
     ]
    },
    {
     "name": "stdout",
     "output_type": "stream",
     "text": [
      "sending off prediction to background worker for resampling and export\n",
      "done with RVOT_3d_18\n",
      "Done with RVOT\n",
      "\n",
      "Segmentation complete. Time taken: 86.49694514274597 seconds (3d version).\n"
     ]
    }
   ],
   "source": [
    "## Segmentation\n",
    "version = '3d' # 2d or 3d\n",
    "start_time = time.time()\n",
    "segment_views(case, dst, model, slice_info_df, version = version)\n",
    "end_time = time.time()\n",
    "print(f'Segmentation complete. Time taken: {end_time-start_time} seconds ({version} version).')\n",
    "\n",
    "# Add segmentation time to log\n",
    "with open(log_path, 'a') as f:\n",
    "    f.write(f'Segmentation time: {end_time-start_time} seconds ({version} version).\\n')\n"
   ]
  },
  {
   "cell_type": "code",
   "execution_count": 210,
   "metadata": {},
   "outputs": [],
   "source": [
    "# Reload\n",
    "importlib.reload(sys.modules[generate_contours.__module__])\n",
    "from generate_contours import generate_contours"
   ]
  },
  {
   "cell_type": "code",
   "execution_count": 211,
   "metadata": {},
   "outputs": [
    {
     "name": "stdout",
     "output_type": "stream",
     "text": [
      "Generating contours for SAX slice 7...\n",
      "Generating contours for SAX slice 8...\n",
      "Generating contours for SAX slice 9...\n",
      "Generating contours for SAX slice 10...\n",
      "Generating contours for SAX slice 11...\n",
      "Generating contours for 2ch slice 15...\n",
      "Generating contours for 3ch slice 14...\n",
      "Generating contours for 4ch slice 12...\n",
      "Generating contours for RVOT slice 18...\n",
      "Guide points generated.\n"
     ]
    }
   ],
   "source": [
    "slice_dict = generate_contours(case, dst, slice_info_df, num_phases, version = version)\n",
    "print('Guide points generated.')"
   ]
  },
  {
   "cell_type": "code",
   "execution_count": 212,
   "metadata": {},
   "outputs": [],
   "source": [
    "# Reload\n",
    "importlib.reload(sys.modules[export_gp.__module__])\n",
    "from export_gp import export_gp"
   ]
  },
  {
   "cell_type": "code",
   "execution_count": 213,
   "metadata": {},
   "outputs": [
    {
     "name": "stdout",
     "output_type": "stream",
     "text": [
      "Export complete.\n",
      "Case cardiohance_120 complete.\n",
      "Total time taken: 92.13595986366272 seconds.\n"
     ]
    }
   ],
   "source": [
    "export_gp(case, dst, output, slice_dict, slice_mapping)\n",
    "print('Export complete.')\n",
    "print(f'Case {case} complete.')\n",
    "print(f'Total time taken: {time.time()-start_time} seconds.')"
   ]
  }
 ],
 "metadata": {
  "kernelspec": {
   "display_name": "CAP_ABI",
   "language": "python",
   "name": "python3"
  },
  "language_info": {
   "codemirror_mode": {
    "name": "ipython",
    "version": 3
   },
   "file_extension": ".py",
   "mimetype": "text/x-python",
   "name": "python",
   "nbconvert_exporter": "python",
   "pygments_lexer": "ipython3",
   "version": "3.10.14"
  }
 },
 "nbformat": 4,
 "nbformat_minor": 2
}
